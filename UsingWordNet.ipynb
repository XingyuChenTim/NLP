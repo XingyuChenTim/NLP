{
 "cells": [
  {
   "cell_type": "markdown",
   "id": "0cfaf1bb",
   "metadata": {},
   "source": [
    "# [What is WordNet?](https://wordnet.princeton.edu)"
   ]
  },
  {
   "cell_type": "code",
   "execution_count": 70,
   "id": "afbbc468",
   "metadata": {},
   "outputs": [
    {
     "name": "stdout",
     "output_type": "stream",
     "text": [
      "Requirement already satisfied: nltk in /Users/rehan/miniconda3/envs/py39/lib/python3.9/site-packages (3.7)\n",
      "Requirement already satisfied: regex>=2021.8.3 in /Users/rehan/miniconda3/envs/py39/lib/python3.9/site-packages (from nltk) (2022.4.24)\n",
      "Requirement already satisfied: joblib in /Users/rehan/miniconda3/envs/py39/lib/python3.9/site-packages (from nltk) (1.1.0)\n",
      "Requirement already satisfied: tqdm in /Users/rehan/miniconda3/envs/py39/lib/python3.9/site-packages (from nltk) (4.63.0)\n",
      "Requirement already satisfied: click in /Users/rehan/miniconda3/envs/py39/lib/python3.9/site-packages (from nltk) (7.1.2)\n"
     ]
    }
   ],
   "source": [
    "%%bash\n",
    "pip install nltk"
   ]
  },
  {
   "cell_type": "code",
   "execution_count": 44,
   "id": "4bc456f1",
   "metadata": {},
   "outputs": [
    {
     "name": "stderr",
     "output_type": "stream",
     "text": [
      "[nltk_data] Downloading package wordnet to /Users/rehan/nltk_data...\n",
      "[nltk_data]   Package wordnet is already up-to-date!\n"
     ]
    },
    {
     "data": {
      "text/plain": [
       "True"
      ]
     },
     "execution_count": 44,
     "metadata": {},
     "output_type": "execute_result"
    }
   ],
   "source": [
    "# download the wordnet using nltk \n",
    "\n",
    "import nltk\n",
    "nltk.download('wordnet')"
   ]
  },
  {
   "cell_type": "code",
   "execution_count": 1,
   "id": "828cfca2",
   "metadata": {},
   "outputs": [],
   "source": [
    "from nltk.corpus import wordnet as wn"
   ]
  },
  {
   "cell_type": "code",
   "execution_count": 2,
   "id": "1b08c4d1",
   "metadata": {},
   "outputs": [
    {
     "name": "stdout",
     "output_type": "stream",
     "text": [
      "Number of words (lemmas) in English WordNet: 147306\n"
     ]
    }
   ],
   "source": [
    "print(\"Number of words (lemmas) in English WordNet:\", len(list(wn.words())))"
   ]
  },
  {
   "cell_type": "code",
   "execution_count": 45,
   "id": "d9f6dd59",
   "metadata": {},
   "outputs": [],
   "source": [
    "# an example of how wordnet stores word sense classes for a word\n",
    "\n",
    "eg_synsets = wn.synsets('language')"
   ]
  },
  {
   "cell_type": "code",
   "execution_count": 46,
   "id": "6cdb4ce8",
   "metadata": {},
   "outputs": [
    {
     "name": "stdout",
     "output_type": "stream",
     "text": [
      "Number of senses for the word \"language\": 6\n"
     ]
    }
   ],
   "source": [
    "print('Number of senses for the word \"language\":', len(eg_synsets))"
   ]
  },
  {
   "cell_type": "code",
   "execution_count": 47,
   "id": "e89f3e42",
   "metadata": {},
   "outputs": [
    {
     "name": "stdout",
     "output_type": "stream",
     "text": [
      "Synset('language.n.01')\n"
     ]
    }
   ],
   "source": [
    "# first sense (most common usage)\n",
    "\n",
    "eg_sense_1 = eg_synsets[0]\n",
    "print(eg_sense_1)"
   ]
  },
  {
   "cell_type": "code",
   "execution_count": 52,
   "id": "e7834f5c",
   "metadata": {},
   "outputs": [
    {
     "name": "stdout",
     "output_type": "stream",
     "text": [
      "Lemma: language\n",
      "POS: n\n",
      "Definition: a systematic means of communicating by the use of sounds or conventional symbols\n",
      "Example Usage: he taught foreign languages; the language introduced is standard throughout the text; the speed with which a program can be executed depends on the language in which it is written\n"
     ]
    }
   ],
   "source": [
    "# Let's see what is in this sense\n",
    "\n",
    "# lemma\n",
    "print('Lemma:', eg_sense_1.lemmas()[0].name())\n",
    "\n",
    "# POS\n",
    "print('POS:', eg_sense_1.pos())\n",
    "\n",
    "# Definition\n",
    "print(\"Definition:\", eg_sense_1.definition())\n",
    "\n",
    "# Example Usage\n",
    "print(\"Example Usage:\", '; '.join(eg_sense_1.examples()))"
   ]
  },
  {
   "cell_type": "code",
   "execution_count": 58,
   "id": "f34c72cc",
   "metadata": {},
   "outputs": [
    {
     "name": "stdout",
     "output_type": "stream",
     "text": [
      "Languages available in WN: eng, als, arb, bul, cmn, dan, ell, fin, fra, heb, hrv, isl, ita, ita_iwn, jpn, cat, eus, glg, spa, ind, zsm, nld, nno, nob, pol, por, ron, lit, slk, slv, swe, tha\n"
     ]
    }
   ],
   "source": [
    "# Other Languages usable through wn?\n",
    "\n",
    "print(\"Languages available in WN:\", ', '.join(wn.langs()))"
   ]
  },
  {
   "cell_type": "markdown",
   "id": "95865091",
   "metadata": {},
   "source": [
    "More Languages?"
   ]
  },
  {
   "cell_type": "code",
   "execution_count": 56,
   "id": "6b5bf8fc",
   "metadata": {},
   "outputs": [
    {
     "name": "stdout",
     "output_type": "stream",
     "text": [
      "Collecting pyiwn\n",
      "  Downloading pyiwn-0.0.5-py3-none-any.whl (12 kB)\n",
      "Requirement already satisfied: pandas in /Users/rehan/miniconda3/envs/py39/lib/python3.9/site-packages (from pyiwn) (1.4.2)\n",
      "Requirement already satisfied: requests in /Users/rehan/miniconda3/envs/py39/lib/python3.9/site-packages (from pyiwn) (2.27.1)\n",
      "Requirement already satisfied: python-dateutil>=2.8.1 in /Users/rehan/miniconda3/envs/py39/lib/python3.9/site-packages (from pandas->pyiwn) (2.8.2)\n",
      "Requirement already satisfied: numpy>=1.18.5 in /Users/rehan/miniconda3/envs/py39/lib/python3.9/site-packages (from pandas->pyiwn) (1.22.3)\n",
      "Requirement already satisfied: pytz>=2020.1 in /Users/rehan/miniconda3/envs/py39/lib/python3.9/site-packages (from pandas->pyiwn) (2022.1)\n",
      "Requirement already satisfied: six>=1.5 in /Users/rehan/miniconda3/envs/py39/lib/python3.9/site-packages (from python-dateutil>=2.8.1->pandas->pyiwn) (1.16.0)\n",
      "Requirement already satisfied: charset-normalizer~=2.0.0 in /Users/rehan/miniconda3/envs/py39/lib/python3.9/site-packages (from requests->pyiwn) (2.0.12)\n",
      "Requirement already satisfied: urllib3<1.27,>=1.21.1 in /Users/rehan/miniconda3/envs/py39/lib/python3.9/site-packages (from requests->pyiwn) (1.26.9)\n",
      "Requirement already satisfied: idna<4,>=2.5 in /Users/rehan/miniconda3/envs/py39/lib/python3.9/site-packages (from requests->pyiwn) (3.3)\n",
      "Requirement already satisfied: certifi>=2017.4.17 in /Users/rehan/miniconda3/envs/py39/lib/python3.9/site-packages (from requests->pyiwn) (2021.10.8)\n",
      "Installing collected packages: pyiwn\n",
      "Successfully installed pyiwn-0.0.5\n"
     ]
    }
   ],
   "source": [
    "%%bash\n",
    "pip install pyiwn"
   ]
  },
  {
   "cell_type": "markdown",
   "id": "f5800b0c",
   "metadata": {},
   "source": [
    "## [Hindi WordNet]( https://github.com/cfiltnlp/pyiwn)"
   ]
  },
  {
   "cell_type": "code",
   "execution_count": 60,
   "id": "7a2f63fe",
   "metadata": {},
   "outputs": [
    {
     "name": "stderr",
     "output_type": "stream",
     "text": [
      "2022-08-26:15:41:51,832 INFO     [helpers.py:20] Downloading IndoWordNet data of size ~31 MB...\n"
     ]
    },
    {
     "name": "stdout",
     "output_type": "stream",
     "text": [
      "[██████████████████████████████████████████████████]"
     ]
    },
    {
     "name": "stderr",
     "output_type": "stream",
     "text": [
      "2022-08-26:15:41:54,602 INFO     [helpers.py:43] Extracting /Users/rehan/iwn_data.tar.gz into /Users/rehan...\n"
     ]
    },
    {
     "name": "stdout",
     "output_type": "stream",
     "text": [
      "\n"
     ]
    },
    {
     "name": "stderr",
     "output_type": "stream",
     "text": [
      "2022-08-26:15:41:56,378 INFO     [helpers.py:48] Removing temporary zip file from /Users/rehan/iwn_data.tar.gz\n",
      "2022-08-26:15:41:56,384 INFO     [helpers.py:51] IndoWordNet data successfully downloaded at /Users/rehan/iwn_data\n",
      "2022-08-26:15:41:57,91 INFO     [iwn.py:43] Loading hindi language synsets...\n"
     ]
    }
   ],
   "source": [
    "# Hindi Wordnet: https://github.com/cfiltnlp/pyiwn\n",
    "\n",
    "import pyiwn\n",
    "\n",
    "wn_h = pyiwn.IndoWordNet()"
   ]
  },
  {
   "cell_type": "code",
   "execution_count": 65,
   "id": "8c193e08",
   "metadata": {},
   "outputs": [
    {
     "name": "stdout",
     "output_type": "stream",
     "text": [
      "Number of words (lemmas) in Hindi WordNet: 105458\n"
     ]
    }
   ],
   "source": [
    "print('Number of words (lemmas) in Hindi WordNet:', len(wn_h.all_words()))"
   ]
  },
  {
   "cell_type": "code",
   "execution_count": 68,
   "id": "65714d22",
   "metadata": {},
   "outputs": [],
   "source": [
    "# synsets for \"language\" called \"bhaasha\" in Hindi\n",
    "\n",
    "bhaasha_synsets = wn_h.synsets('भाषा')"
   ]
  },
  {
   "cell_type": "code",
   "execution_count": 69,
   "id": "d9c5d016",
   "metadata": {},
   "outputs": [
    {
     "data": {
      "text/plain": [
       "[Synset('वचन.noun.2934'),\n",
       " Synset('सरस्वती.noun.3499'),\n",
       " Synset('भाषा.noun.5489'),\n",
       " Synset('हिंदी.noun.10893'),\n",
       " Synset('अभियोग-पत्र.noun.30944'),\n",
       " Synset('भाषा.noun.40836'),\n",
       " Synset('भाषा.noun.40837'),\n",
       " Synset('भाषा.noun.40838'),\n",
       " Synset('भाषा.noun.40839')]"
      ]
     },
     "execution_count": 69,
     "metadata": {},
     "output_type": "execute_result"
    }
   ],
   "source": [
    "bhaasha_synsets"
   ]
  },
  {
   "cell_type": "code",
   "execution_count": null,
   "id": "76a55ba6",
   "metadata": {},
   "outputs": [],
   "source": []
  }
 ],
 "metadata": {
  "kernelspec": {
   "display_name": "Python 3",
   "language": "python",
   "name": "python3"
  },
  "language_info": {
   "codemirror_mode": {
    "name": "ipython",
    "version": 3
   },
   "file_extension": ".py",
   "mimetype": "text/x-python",
   "name": "python",
   "nbconvert_exporter": "python",
   "pygments_lexer": "ipython3",
   "version": "3.9.7"
  }
 },
 "nbformat": 4,
 "nbformat_minor": 5
}
